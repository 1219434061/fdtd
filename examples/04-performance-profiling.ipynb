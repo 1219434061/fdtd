{
 "cells": [
  {
   "cell_type": "markdown",
   "metadata": {},
   "source": [
    "# 04. Performance Profiling"
   ]
  },
  {
   "cell_type": "markdown",
   "metadata": {},
   "source": [
    "We can profile the performance with a 3D FDTD simulation:"
   ]
  },
  {
   "cell_type": "markdown",
   "metadata": {},
   "source": [
    "## Imports"
   ]
  },
  {
   "cell_type": "code",
   "metadata": {
    "ExecuteTime": {
     "end_time": "2025-03-20T08:25:21.512389Z",
     "start_time": "2025-03-20T08:25:19.965715Z"
    }
   },
   "source": [
    "import matplotlib.pyplot as plt\n",
    "from line_profiler import LineProfiler\n",
    "\n",
    "import fdtd\n",
    "import fdtd.backend as bd"
   ],
   "outputs": [],
   "execution_count": 1
  },
  {
   "cell_type": "markdown",
   "metadata": {},
   "source": [
    "## Set Backend\n",
    "\n",
    "Let's profile the impact of the backend. These are the possible backends:"
   ]
  },
  {
   "cell_type": "markdown",
   "metadata": {},
   "source": [
    "- ``numpy`` (defaults to float64 arrays)\n",
    "- ``torch`` (defaults to float64 tensors)\n",
    "- ``torch.float32``\n",
    "- ``torch.float64``\n",
    "- ``torch.cuda`` (defaults to float64 tensors)\n",
    "- ``torch.cuda.float32``\n",
    "- ``torch.cuda.float64``"
   ]
  },
  {
   "cell_type": "code",
   "metadata": {
    "ExecuteTime": {
     "end_time": "2025-03-20T08:25:24.679561Z",
     "start_time": "2025-03-20T08:25:24.676462Z"
    }
   },
   "source": [
    "fdtd.set_backend(\"numpy\")"
   ],
   "outputs": [],
   "execution_count": 2
  },
  {
   "cell_type": "markdown",
   "metadata": {},
   "source": [
    "In general, the ``numpy`` backend is preferred for standard CPU calculations\n",
    "with `\"float64\"` precision as it is slightly faster than ``torch`` backend on CPU. However, a significant performance improvement can be obtained by choosing ``torch.cuda`` on large enough grids.\n",
    "\n",
    "Note that, in FDTD, ``float64`` precision is generally preferred over ``float32`` to ensure numerical stability and prevent numerical dispersion. If this is of no concern to you, you can opt for ``float32`` precision, which especially on a GPU might yield a significant performance boost."
   ]
  },
  {
   "cell_type": "markdown",
   "metadata": {},
   "source": [
    "## Constants"
   ]
  },
  {
   "cell_type": "code",
   "metadata": {
    "ExecuteTime": {
     "end_time": "2025-03-20T08:25:30.834020Z",
     "start_time": "2025-03-20T08:25:30.831495Z"
    }
   },
   "source": [
    "WAVELENGTH = 1550e-9\n",
    "SPEED_LIGHT: float = 299_792_458.0  # [m/s] speed of light"
   ],
   "outputs": [],
   "execution_count": 3
  },
  {
   "cell_type": "markdown",
   "metadata": {},
   "source": [
    "## Setup Simulation"
   ]
  },
  {
   "cell_type": "markdown",
   "metadata": {},
   "source": [
    "create FDTD Grid"
   ]
  },
  {
   "cell_type": "code",
   "metadata": {
    "ExecuteTime": {
     "end_time": "2025-03-20T08:25:42.238589Z",
     "start_time": "2025-03-20T08:25:42.215188Z"
    }
   },
   "source": [
    "N = 100\n",
    "\n",
    "grid = fdtd.Grid(\n",
    "    (N, N, N),\n",
    "    grid_spacing=0.05 * WAVELENGTH,\n",
    "    permittivity=1.0,\n",
    "    permeability=1.0,\n",
    ")"
   ],
   "outputs": [],
   "execution_count": 4
  },
  {
   "cell_type": "markdown",
   "metadata": {},
   "source": [
    "add boundaries"
   ]
  },
  {
   "cell_type": "code",
   "metadata": {
    "ExecuteTime": {
     "end_time": "2025-03-20T08:25:45.822074Z",
     "start_time": "2025-03-20T08:25:45.744326Z"
    }
   },
   "source": [
    "# x boundaries\n",
    "grid[0:10, :, :] = fdtd.PML(name=\"pml_xlow\")\n",
    "grid[-10:, :, :] = fdtd.PML(name=\"pml_xhigh\")\n",
    "\n",
    "# y boundaries\n",
    "grid[:, 0:10, :] = fdtd.PML(name=\"pml_ylow\")\n",
    "grid[:, -10:, :] = fdtd.PML(name=\"pml_yhigh\")\n",
    "\n",
    "# z boundaries\n",
    "grid[:, :, 0:10] = fdtd.PML(name=\"pml_zlow\")\n",
    "grid[:, :, -10:] = fdtd.PML(name=\"pml_zhigh\")"
   ],
   "outputs": [],
   "execution_count": 5
  },
  {
   "cell_type": "markdown",
   "metadata": {},
   "source": [
    "add sources"
   ]
  },
  {
   "cell_type": "code",
   "metadata": {
    "ExecuteTime": {
     "end_time": "2025-03-20T08:25:55.046755Z",
     "start_time": "2025-03-20T08:25:55.043131Z"
    }
   },
   "source": [
    "grid[10+N//10:10+N//10, :, :] = fdtd.PlaneSource(\n",
    "    period=WAVELENGTH / SPEED_LIGHT, name=\"source\"\n",
    ")"
   ],
   "outputs": [],
   "execution_count": 6
  },
  {
   "cell_type": "markdown",
   "metadata": {},
   "source": [
    "add objects"
   ]
  },
  {
   "cell_type": "code",
   "metadata": {
    "ExecuteTime": {
     "end_time": "2025-03-20T08:26:02.125605Z",
     "start_time": "2025-03-20T08:26:02.118463Z"
    }
   },
   "source": [
    "grid[10+N//5:4*N//5-10, 10+N//5:4*N//5-10, 10+N//5:4*N//5-10] = fdtd.Object(permittivity=2.5, name=\"center_object\")"
   ],
   "outputs": [],
   "execution_count": 7
  },
  {
   "cell_type": "markdown",
   "metadata": {},
   "source": [
    "grid summary"
   ]
  },
  {
   "cell_type": "code",
   "metadata": {
    "ExecuteTime": {
     "end_time": "2025-03-20T08:26:04.295232Z",
     "start_time": "2025-03-20T08:26:04.292915Z"
    }
   },
   "source": [
    "print(grid)"
   ],
   "outputs": [
    {
     "name": "stdout",
     "output_type": "stream",
     "text": [
      "Grid(shape=(100,100,100), grid_spacing=7.75e-08, courant_number=0.57)\n",
      "\n",
      "sources:\n",
      "    PlaneSource(period=35, amplitude=1.0, phase_shift=0.0, name='source', polarization='z')\n",
      "        @ x=[20, ... , 21], y=[0, ... , 100], z=[0, ... , 100]\n",
      "\n",
      "boundaries:\n",
      "    PML(name='pml_xlow')\n",
      "        @ x=0:10, y=:, z=:\n",
      "    PML(name='pml_xhigh')\n",
      "        @ x=-10:, y=:, z=:\n",
      "    PML(name='pml_ylow')\n",
      "        @ x=:, y=0:10, z=:\n",
      "    PML(name='pml_yhigh')\n",
      "        @ x=:, y=-10:, z=:\n",
      "    PML(name='pml_zlow')\n",
      "        @ x=:, y=:, z=0:10\n",
      "    PML(name='pml_zhigh')\n",
      "        @ x=:, y=:, z=-10:\n",
      "\n",
      "objects:\n",
      "    Object(name='center_object')\n",
      "        @ x=30:70, y=30:70, z=30:70\n",
      "\n"
     ]
    }
   ],
   "execution_count": 8
  },
  {
   "cell_type": "markdown",
   "metadata": {},
   "source": [
    "## Setup LineProfiler"
   ]
  },
  {
   "cell_type": "markdown",
   "metadata": {},
   "source": [
    "create and enable profiler"
   ]
  },
  {
   "cell_type": "code",
   "metadata": {
    "ExecuteTime": {
     "end_time": "2025-03-20T08:26:11.285569Z",
     "start_time": "2025-03-20T08:26:11.281569Z"
    }
   },
   "source": [
    "profiler = LineProfiler()\n",
    "profiler.add_function(grid.update_E)\n",
    "profiler.enable()"
   ],
   "outputs": [],
   "execution_count": 9
  },
  {
   "cell_type": "markdown",
   "metadata": {},
   "source": [
    "## Run Simulation"
   ]
  },
  {
   "cell_type": "markdown",
   "metadata": {},
   "source": [
    "run simulation"
   ]
  },
  {
   "cell_type": "code",
   "metadata": {
    "ExecuteTime": {
     "end_time": "2025-03-20T08:26:28.817813Z",
     "start_time": "2025-03-20T08:26:21.021681Z"
    }
   },
   "source": [
    "grid.run(50, progress_bar=True)"
   ],
   "outputs": [
    {
     "name": "stderr",
     "output_type": "stream",
     "text": [
      "100%|██████████| 50/50 [00:07<00:00,  6.42it/s]\n"
     ]
    }
   ],
   "execution_count": 10
  },
  {
   "cell_type": "markdown",
   "metadata": {},
   "source": [
    "## Profiler Results"
   ]
  },
  {
   "cell_type": "markdown",
   "metadata": {},
   "source": [
    "print profiler summary"
   ]
  },
  {
   "cell_type": "code",
   "metadata": {
    "ExecuteTime": {
     "end_time": "2025-03-20T08:26:42.566106Z",
     "start_time": "2025-03-20T08:26:42.558186Z"
    }
   },
   "source": [
    "profiler.print_stats()"
   ],
   "outputs": [
    {
     "name": "stdout",
     "output_type": "stream",
     "text": [
      "Timer unit: 1e-07 s\n",
      "\n",
      "Total time: 3.9648 s\n",
      "File: D:\\Project\\fdtd\\fdtd\\grid.py\n",
      "Function: update_E at line 275\n",
      "\n",
      "Line #      Hits         Time  Per Hit   % Time  Line Contents\n",
      "==============================================================\n",
      "   275                                               def update_E(self):\n",
      "   276                                                   \"\"\"update the electric field by using the curl of the magnetic field\"\"\"\n",
      "   277                                           \n",
      "   278                                                   # update boundaries: step 1\n",
      "   279       350       4301.0     12.3      0.0          for boundary in self.boundaries:\n",
      "   280       300   12380408.0  41268.0     31.2              boundary.update_phi_E()\n",
      "   281                                           \n",
      "   282        50   14937344.0 298746.9     37.7          curl = curl_H(self.H)\n",
      "   283        50    6564802.0 131296.0     16.6          self.E += self.courant_number * self.inverse_permittivity * curl\n",
      "   284                                           \n",
      "   285                                                   # update objects\n",
      "   286       100       1743.0     17.4      0.0          for obj in self.objects:\n",
      "   287        50     807749.0  16155.0      2.0              obj.update_E(curl)\n",
      "   288                                           \n",
      "   289                                                   # update boundaries: step 2\n",
      "   290       350       2861.0      8.2      0.0          for boundary in self.boundaries:\n",
      "   291       300    4930432.0  16434.8     12.4              boundary.update_E()\n",
      "   292                                           \n",
      "   293                                                   # add sources to grid:\n",
      "   294       100        829.0      8.3      0.0          for src in self.sources:\n",
      "   295        50      16791.0    335.8      0.0              src.update_E()\n",
      "   296                                           \n",
      "   297                                                   # detect electric field\n",
      "   298        50        759.0     15.2      0.0          for det in self.detectors:\n",
      "   299                                                       det.detect_E()\n",
      "\n"
     ]
    }
   ],
   "execution_count": 11
  },
  {
   "cell_type": "markdown",
   "metadata": {},
   "source": [
    "## Visualization"
   ]
  },
  {
   "cell_type": "code",
   "metadata": {
    "ExecuteTime": {
     "end_time": "2025-03-20T08:27:47.017453Z",
     "start_time": "2025-03-20T08:27:46.034372Z"
    }
   },
   "source": [
    "plt.figure()\n",
    "grid.visualize(z=N//2)\n"
   ],
   "outputs": [
    {
     "data": {
      "text/plain": [
       "<Figure size 640x480 with 1 Axes>"
      ],
      "image/png": "[encoded data removed]"
     },
     "execution_count": 14,
     "metadata": {},
     "output_type": "execute_result"
    },
    {
     "data": {
      "text/plain": [
       "<Figure size 640x480 with 1 Axes>"
      ],
      "image/png": "[encoded data removed]"
     },
     "metadata": {},
     "output_type": "display_data"
    }
   ],
   "execution_count": 14
  }
 ],
 "metadata": {
  "kernelspec": {
   "display_name": "Python 3",
   "language": "python",
   "name": "python3"
  },
  "language_info": {
   "codemirror_mode": {
    "name": "ipython",
    "version": 3
   },
   "file_extension": ".py",
   "mimetype": "text/x-python",
   "name": "python",
   "nbconvert_exporter": "python",
   "pygments_lexer": "ipython3",
   "version": "3.8.5"
  }
 },
 "nbformat": 4,
 "nbformat_minor": 4
}
